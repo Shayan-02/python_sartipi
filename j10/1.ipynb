{
 "cells": [
  {
   "cell_type": "code",
   "execution_count": 2,
   "metadata": {},
   "outputs": [
    {
     "data": {
      "text/plain": [
       "(10, 10)"
      ]
     },
     "execution_count": 2,
     "metadata": {},
     "output_type": "execute_result"
    }
   ],
   "source": [
    "import numpy as np\n",
    "\n",
    "ar = np.arange(1, 101)\n",
    "b = ar.reshape(10, 10)\n",
    "b.shape"
   ]
  },
  {
   "cell_type": "code",
   "execution_count": 18,
   "metadata": {},
   "outputs": [
    {
     "data": {
      "text/plain": [
       "1"
      ]
     },
     "execution_count": 18,
     "metadata": {},
     "output_type": "execute_result"
    }
   ],
   "source": [
    "lst = [1, 2, 3, 4, 5]\n",
    "b = np.array(lst)\n",
    "type(b)\n",
    "b.min()"
   ]
  },
  {
   "cell_type": "code",
   "execution_count": 8,
   "metadata": {},
   "outputs": [
    {
     "data": {
      "text/plain": [
       "array([[  0,   5,  10,  15,  20,  25,  30,  35,  40,  45],\n",
       "       [ 50,  55,  60,  65,  70,  75,  80,  85,  90,  95],\n",
       "       [100, 105, 110, 115, 120, 125, 130, 135, 140, 145],\n",
       "       [150, 155, 160, 165, 170, 175, 180, 185, 190, 195],\n",
       "       [200, 205, 210, 215, 220, 225, 230, 235, 240, 245],\n",
       "       [250, 255, 260, 265, 270, 275, 280, 285, 290, 295],\n",
       "       [300, 305, 310, 315, 320, 325, 330, 335, 340, 345],\n",
       "       [350, 355, 360, 365, 370, 375, 380, 385, 390, 395],\n",
       "       [400, 405, 410, 415, 420, 425, 430, 435, 440, 445],\n",
       "       [450, 455, 460, 465, 470, 475, 480, 485, 490, 495],\n",
       "       [500, 505, 510, 515, 520, 525, 530, 535, 540, 545],\n",
       "       [550, 555, 560, 565, 570, 575, 580, 585, 590, 595],\n",
       "       [600, 605, 610, 615, 620, 625, 630, 635, 640, 645],\n",
       "       [650, 655, 660, 665, 670, 675, 680, 685, 690, 695],\n",
       "       [700, 705, 710, 715, 720, 725, 730, 735, 740, 745],\n",
       "       [750, 755, 760, 765, 770, 775, 780, 785, 790, 795],\n",
       "       [800, 805, 810, 815, 820, 825, 830, 835, 840, 845],\n",
       "       [850, 855, 860, 865, 870, 875, 880, 885, 890, 895],\n",
       "       [900, 905, 910, 915, 920, 925, 930, 935, 940, 945],\n",
       "       [950, 955, 960, 965, 970, 975, 980, 985, 990, 995]])"
      ]
     },
     "execution_count": 8,
     "metadata": {},
     "output_type": "execute_result"
    }
   ],
   "source": [
    "c = np.arange(0, 1000, 5)\n",
    "d = c.reshape(20, 10)\n",
    "d"
   ]
  },
  {
   "cell_type": "code",
   "execution_count": 12,
   "metadata": {},
   "outputs": [
    {
     "data": {
      "text/plain": [
       "array([[0., 0., 0., 0., 0.],\n",
       "       [0., 0., 0., 0., 0.],\n",
       "       [0., 0., 0., 0., 0.],\n",
       "       [0., 0., 0., 0., 0.],\n",
       "       [0., 0., 0., 0., 0.],\n",
       "       [0., 0., 0., 0., 0.],\n",
       "       [0., 0., 0., 0., 0.],\n",
       "       [0., 0., 0., 0., 0.],\n",
       "       [0., 0., 0., 0., 0.],\n",
       "       [0., 0., 0., 0., 0.],\n",
       "       [0., 0., 0., 0., 0.],\n",
       "       [0., 0., 0., 0., 0.],\n",
       "       [0., 0., 0., 0., 0.],\n",
       "       [0., 0., 0., 0., 0.],\n",
       "       [0., 0., 0., 0., 0.],\n",
       "       [0., 0., 0., 0., 0.],\n",
       "       [0., 0., 0., 0., 0.],\n",
       "       [0., 0., 0., 0., 0.],\n",
       "       [0., 0., 0., 0., 0.],\n",
       "       [0., 0., 0., 0., 0.]])"
      ]
     },
     "execution_count": 12,
     "metadata": {},
     "output_type": "execute_result"
    }
   ],
   "source": [
    "e = np.zeros(100)\n",
    "f = e.reshape(20, 5)\n",
    "f"
   ]
  }
 ],
 "metadata": {
  "kernelspec": {
   "display_name": "Python 3",
   "language": "python",
   "name": "python3"
  },
  "language_info": {
   "codemirror_mode": {
    "name": "ipython",
    "version": 3
   },
   "file_extension": ".py",
   "mimetype": "text/x-python",
   "name": "python",
   "nbconvert_exporter": "python",
   "pygments_lexer": "ipython3",
   "version": "3.12.2"
  }
 },
 "nbformat": 4,
 "nbformat_minor": 2
}
